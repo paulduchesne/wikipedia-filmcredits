{
 "cells": [
  {
   "cell_type": "code",
   "execution_count": 12,
   "source": [
    "# sparql query a list of wikidata films and respective english wikipedia pages.\n",
    "\n",
    "import pandas\n",
    "import pydash\n",
    "import requests\n",
    "\n",
    "def value_extract(row, col):\n",
    "\n",
    "    ''' Extract dictionary values. '''\n",
    "\n",
    "    return pydash.get(row[col], 'value')    \n",
    "    \n",
    "def sparql_query(query, service):\n",
    "\n",
    "    ''' Send sparql request, and formulate results into a dataframe. '''\n",
    "\n",
    "    r = requests.get(service, params = {'format': 'json', 'query': query})\n",
    "    data = pydash.get(r.json(), 'results.bindings')\n",
    "    data = pandas.DataFrame.from_dict(data)\n",
    "    for x in data.columns:    \n",
    "        data[x] = data.apply(value_extract, col=x, axis=1)\n",
    "    return data\n",
    "\n",
    "dataframe = sparql_query(\"\"\"\n",
    "    SELECT DISTINCT ?film ?link WHERE {\n",
    "        ?film wdt:P31 wd:Q11424\n",
    "        OPTIONAL {\n",
    "            ?link schema:about ?film.\n",
    "            ?link schema:inLanguage \"en\".\n",
    "            ?link schema:isPartOf <https://en.wikipedia.org/>\n",
    "            }}\"\"\", 'https://query.wikidata.org/sparql')\n",
    "\n",
    "print(len(dataframe))\n",
    "dataframe.head()"
   ],
   "outputs": [
    {
     "output_type": "stream",
     "name": "stdout",
     "text": [
      "266901\n"
     ]
    },
    {
     "output_type": "execute_result",
     "data": {
      "text/html": [
       "<div>\n",
       "<style scoped>\n",
       "    .dataframe tbody tr th:only-of-type {\n",
       "        vertical-align: middle;\n",
       "    }\n",
       "\n",
       "    .dataframe tbody tr th {\n",
       "        vertical-align: top;\n",
       "    }\n",
       "\n",
       "    .dataframe thead th {\n",
       "        text-align: right;\n",
       "    }\n",
       "</style>\n",
       "<table border=\"1\" class=\"dataframe\">\n",
       "  <thead>\n",
       "    <tr style=\"text-align: right;\">\n",
       "      <th></th>\n",
       "      <th>film</th>\n",
       "      <th>link</th>\n",
       "    </tr>\n",
       "  </thead>\n",
       "  <tbody>\n",
       "    <tr>\n",
       "      <th>0</th>\n",
       "      <td>http://www.wikidata.org/entity/Q108946</td>\n",
       "      <td>https://en.wikipedia.org/wiki/A_Few_Good_Men</td>\n",
       "    </tr>\n",
       "    <tr>\n",
       "      <th>1</th>\n",
       "      <td>http://www.wikidata.org/entity/Q108586</td>\n",
       "      <td>https://en.wikipedia.org/wiki/The_Proposal_(20...</td>\n",
       "    </tr>\n",
       "    <tr>\n",
       "      <th>2</th>\n",
       "      <td>http://www.wikidata.org/entity/Q109110</td>\n",
       "      <td>https://en.wikipedia.org/wiki/Marked_for_Death</td>\n",
       "    </tr>\n",
       "    <tr>\n",
       "      <th>3</th>\n",
       "      <td>http://www.wikidata.org/entity/Q82860</td>\n",
       "      <td>https://en.wikipedia.org/wiki/The_Italian_Brig...</td>\n",
       "    </tr>\n",
       "    <tr>\n",
       "      <th>4</th>\n",
       "      <td>http://www.wikidata.org/entity/Q82937</td>\n",
       "      <td>https://en.wikipedia.org/wiki/Agent_077:_From_...</td>\n",
       "    </tr>\n",
       "  </tbody>\n",
       "</table>\n",
       "</div>"
      ],
      "text/plain": [
       "                                     film  \\\n",
       "0  http://www.wikidata.org/entity/Q108946   \n",
       "1  http://www.wikidata.org/entity/Q108586   \n",
       "2  http://www.wikidata.org/entity/Q109110   \n",
       "3   http://www.wikidata.org/entity/Q82860   \n",
       "4   http://www.wikidata.org/entity/Q82937   \n",
       "\n",
       "                                                link  \n",
       "0       https://en.wikipedia.org/wiki/A_Few_Good_Men  \n",
       "1  https://en.wikipedia.org/wiki/The_Proposal_(20...  \n",
       "2     https://en.wikipedia.org/wiki/Marked_for_Death  \n",
       "3  https://en.wikipedia.org/wiki/The_Italian_Brig...  \n",
       "4  https://en.wikipedia.org/wiki/Agent_077:_From_...  "
      ]
     },
     "metadata": {},
     "execution_count": 12
    }
   ],
   "metadata": {}
  }
 ],
 "metadata": {
  "orig_nbformat": 4,
  "language_info": {
   "name": "python",
   "version": "3.9.5",
   "mimetype": "text/x-python",
   "codemirror_mode": {
    "name": "ipython",
    "version": 3
   },
   "pygments_lexer": "ipython3",
   "nbconvert_exporter": "python",
   "file_extension": ".py"
  },
  "kernelspec": {
   "name": "python3",
   "display_name": "Python 3.9.5 64-bit"
  },
  "interpreter": {
   "hash": "916dbcbb3f70747c44a77c7bcd40155683ae19c65e1c03b4aa3499c5328201f1"
  }
 },
 "nbformat": 4,
 "nbformat_minor": 2
}