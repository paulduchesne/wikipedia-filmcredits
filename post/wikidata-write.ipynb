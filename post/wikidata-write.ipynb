{
 "cells": [
  {
   "cell_type": "code",
   "execution_count": 1,
   "metadata": {},
   "outputs": [
    {
     "name": "stdout",
     "output_type": "stream",
     "text": [
      "631607\n"
     ]
    },
    {
     "data": {
      "text/html": [
       "<div>\n",
       "<style scoped>\n",
       "    .dataframe tbody tr th:only-of-type {\n",
       "        vertical-align: middle;\n",
       "    }\n",
       "\n",
       "    .dataframe tbody tr th {\n",
       "        vertical-align: top;\n",
       "    }\n",
       "\n",
       "    .dataframe thead th {\n",
       "        text-align: right;\n",
       "    }\n",
       "</style>\n",
       "<table border=\"1\" class=\"dataframe\">\n",
       "  <thead>\n",
       "    <tr style=\"text-align: right;\">\n",
       "      <th></th>\n",
       "      <th>work</th>\n",
       "      <th>agent</th>\n",
       "      <th>character_name</th>\n",
       "    </tr>\n",
       "  </thead>\n",
       "  <tbody>\n",
       "    <tr>\n",
       "      <th>0</th>\n",
       "      <td>Q21795364</td>\n",
       "      <td>Q1231066</td>\n",
       "      <td>Fausto</td>\n",
       "    </tr>\n",
       "    <tr>\n",
       "      <th>1</th>\n",
       "      <td>Q21795364</td>\n",
       "      <td>Q234015</td>\n",
       "      <td>Nadine</td>\n",
       "    </tr>\n",
       "    <tr>\n",
       "      <th>2</th>\n",
       "      <td>Q21795364</td>\n",
       "      <td>Q4007861</td>\n",
       "      <td>Sandro</td>\n",
       "    </tr>\n",
       "    <tr>\n",
       "      <th>3</th>\n",
       "      <td>Q21795364</td>\n",
       "      <td>Q15110818</td>\n",
       "      <td>Francesca</td>\n",
       "    </tr>\n",
       "    <tr>\n",
       "      <th>4</th>\n",
       "      <td>Q21795364</td>\n",
       "      <td>Q1541570</td>\n",
       "      <td>Alfredo Wiel</td>\n",
       "    </tr>\n",
       "  </tbody>\n",
       "</table>\n",
       "</div>"
      ],
      "text/plain": [
       "        work      agent character_name\n",
       "0  Q21795364   Q1231066         Fausto\n",
       "1  Q21795364    Q234015         Nadine\n",
       "2  Q21795364   Q4007861         Sandro\n",
       "3  Q21795364  Q15110818      Francesca\n",
       "4  Q21795364   Q1541570   Alfredo Wiel"
      ]
     },
     "execution_count": 1,
     "metadata": {},
     "output_type": "execute_result"
    }
   ],
   "source": [
    "# collate extracted data into single table, with some post-processing.\n",
    "\n",
    "import pandas\n",
    "import pathlib\n",
    "\n",
    "def collate_extract(extract_path):\n",
    "\n",
    "    # collate and format individual data extracts into a single table.\n",
    "\n",
    "    df = pandas.DataFrame(columns=['work', 'agent', 'character_name'])\n",
    "    extract_data = [x for x in extract_path.iterdir() if x.suffix == '.txt']\n",
    "    for x in extract_data:\n",
    "        print(x)\n",
    "        with open(x, encoding='utf-8') as txt_file:\n",
    "            txt_file = txt_file.read().split('\\n')[:-1]\n",
    "        for y in txt_file:\n",
    "            z = y.split(' ')\n",
    "            df.loc[len(df)] = [(z[0]), (z[1]), (' '.join(z[2:]))]\n",
    "\n",
    "    return df\n",
    "\n",
    "def post_clean(row):\n",
    "\n",
    "    # remove some outstanding junk.\n",
    "\n",
    "    char = row['character_name']\n",
    "    char = char.split('[')[0]\n",
    "    char = char.split('(as ')[0]\n",
    "    char = char.replace('(guest role)', '')\n",
    "    char = char.replace('(special appearance)', '')    \n",
    "    char = char.replace('(uncredited)', '')\n",
    "    char = char.replace('(Uncredited)', '')\n",
    "    char = char.replace('(cameo)', '')    \n",
    "    char = char.replace('Himself', '')    \n",
    "    char = char.replace('himself', '')  \n",
    "    char = char.strip()      \n",
    "    return char\n",
    "\n",
    "save_path = pathlib.Path.cwd() / 'data' / 'filmcreditname.csv'\n",
    "if not save_path.exists():\n",
    "    dataframe = collate_extract(pathlib.Path.cwd().parents[0] / 'get' / 'data')\n",
    "    dataframe['character_name'] = dataframe['character_name'].fillna('')\n",
    "    dataframe['character_name'] = dataframe.apply(post_clean, axis=1)\n",
    "    dataframe.to_csv(str(save_path), index=False)\n",
    "else:\n",
    "    dataframe = pandas.read_csv(save_path)\n",
    "\n",
    "print(len(dataframe))\n",
    "dataframe.head()"
   ]
  }
 ],
 "metadata": {
  "interpreter": {
   "hash": "d14d89fd24b08e3afa1733805d1ee23f76f1cf7806fbf57d714b318a948dc57e"
  },
  "kernelspec": {
   "display_name": "Python 3.9.10 64-bit (windows store)",
   "language": "python",
   "name": "python3"
  },
  "language_info": {
   "codemirror_mode": {
    "name": "ipython",
    "version": 3
   },
   "file_extension": ".py",
   "mimetype": "text/x-python",
   "name": "python",
   "nbconvert_exporter": "python",
   "pygments_lexer": "ipython3",
   "version": "3.9.7"
  },
  "orig_nbformat": 4
 },
 "nbformat": 4,
 "nbformat_minor": 2
}
