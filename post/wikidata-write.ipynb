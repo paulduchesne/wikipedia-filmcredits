{
 "cells": [
  {
   "cell_type": "code",
   "execution_count": null,
   "metadata": {},
   "outputs": [],
   "source": [
    "# collate extracted data into single table and write to wikidata.\n",
    "\n",
    "import pandas\n",
    "import pathlib\n",
    "\n",
    "def collate_extract(extract_path):\n",
    "\n",
    "    # collate and format individual data extracts into a single table.\n",
    "\n",
    "    df = pandas.DataFrame(columns=['work', 'agent', 'character_name'])\n",
    "    extract_data = [x for x in extract_path.iterdir() if x.suffix == '.txt']\n",
    "    for x in extract_data:\n",
    "        with open(x, encoding='utf-8') as txt_file:\n",
    "            txt_file = txt_file.read().split('\\n')[:-1]\n",
    "        for y in txt_file:\n",
    "            z = y.split(' ')\n",
    "            df.loc[len(df)] = [(z[0]), (z[1]), (' '.join(z[2:]))]\n",
    "\n",
    "    return df\n",
    "\n",
    "save_path = pathlib.Path.cwd() / 'data' / 'filmcreditname.csv'\n",
    "if not save_path.exists():\n",
    "    dataframe = collate_extract(pathlib.Path.cwd().parents[0] / 'get' / 'data')\n",
    "\n",
    "print(len(dataframe))\n",
    "dataframe.head()"
   ]
  },
  {
   "cell_type": "code",
   "execution_count": null,
   "metadata": {},
   "outputs": [],
   "source": [
    "# look through batches of 20 to identify any post filtering required."
   ]
  }
 ],
 "metadata": {
  "interpreter": {
   "hash": "d14d89fd24b08e3afa1733805d1ee23f76f1cf7806fbf57d714b318a948dc57e"
  },
  "kernelspec": {
   "display_name": "Python 3.9.10 64-bit (windows store)",
   "language": "python",
   "name": "python3"
  },
  "language_info": {
   "codemirror_mode": {
    "name": "ipython",
    "version": 3
   },
   "file_extension": ".py",
   "mimetype": "text/x-python",
   "name": "python",
   "nbconvert_exporter": "python",
   "pygments_lexer": "ipython3",
   "version": "3.8.8"
  },
  "orig_nbformat": 4
 },
 "nbformat": 4,
 "nbformat_minor": 2
}
